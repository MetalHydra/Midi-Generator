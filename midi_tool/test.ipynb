{
 "cells": [
  {
   "cell_type": "code",
   "execution_count": 1,
   "metadata": {},
   "outputs": [],
   "source": [
    "from Rythms.Rythm_Builder import Rythm_Builder\n",
    "from Notes.Note_Builder import Note_Builder\n",
    "from Fretboard.Fretboard import Fretboard"
   ]
  },
  {
   "cell_type": "code",
   "execution_count": 2,
   "metadata": {},
   "outputs": [],
   "source": [
    "RB = Rythm_Builder()\n",
    "NB = Note_Builder()\n",
    "FB = Fretboard()"
   ]
  },
  {
   "cell_type": "code",
   "execution_count": 3,
   "metadata": {},
   "outputs": [
    {
     "name": "stdout",
     "output_type": "stream",
     "text": [
      "arp\n",
      "positions on fretboard are:  [ 1 20]\n",
      "eff tup ['<up-bow/>']\n",
      "positions on fretboard are:  [ 1 24]\n",
      "eff tup ['<notations><arpeggiate number=\"1\"/></notations>']\n",
      "finished writing musicxml file\n"
     ]
    }
   ],
   "source": [
    "rythm_string = [\"2/4:180_q_q\"]\n",
    "#rp,tempo = RB.parse_rythm_string(rythm_string=rythm_string[0])\n",
    "#print(rp)\n",
    "notes = [\"C4:_E4:\"]\n",
    "effects = [\"up_arp\"]\n",
    "elems = NB.create_list_of_notes(note_string=notes[0], rythm_string=rythm_string[0],effect_string=effects[0])\n",
    "NB.create_files_from_list(note_string=notes, filename=[\"test6\",\"test1\"], rythm_string=rythm_string,effect_strings=effects, to_midi=False)"
   ]
  },
  {
   "cell_type": "markdown",
   "metadata": {},
   "source": []
  }
 ],
 "metadata": {
  "kernelspec": {
   "display_name": "Python 3.9.6 ('audio')",
   "language": "python",
   "name": "python3"
  },
  "language_info": {
   "codemirror_mode": {
    "name": "ipython",
    "version": 3
   },
   "file_extension": ".py",
   "mimetype": "text/x-python",
   "name": "python",
   "nbconvert_exporter": "python",
   "pygments_lexer": "ipython3",
   "version": "3.9.6"
  },
  "orig_nbformat": 4,
  "vscode": {
   "interpreter": {
    "hash": "03c473ad932b9927c5fb55646e20df1365154062b29d4816239201bd31060526"
   }
  }
 },
 "nbformat": 4,
 "nbformat_minor": 2
}
